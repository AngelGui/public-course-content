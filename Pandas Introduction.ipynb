{
 "cells": [
  {
   "cell_type": "markdown",
   "metadata": {},
   "source": [
    "# Pandas Introduction\n",
    "\n",
    "_Your Name Here_"
   ]
  },
  {
   "cell_type": "code",
   "execution_count": 1,
   "metadata": {},
   "outputs": [],
   "source": [
    "import pandas as pd\n",
    "import numpy as np"
   ]
  },
  {
   "cell_type": "code",
   "execution_count": 13,
   "metadata": {},
   "outputs": [],
   "source": [
    "data = {'col1': np.random.normal(size = 100, loc = 0, scale = 1),\n",
    "        'col2': np.random.normal(size = 100, loc = 0, scale = 2)}"
   ]
  },
  {
   "cell_type": "code",
   "execution_count": 15,
   "metadata": {},
   "outputs": [],
   "source": [
    "df = pd.DataFrame.from_dict(data)"
   ]
  },
  {
   "cell_type": "code",
   "execution_count": 21,
   "metadata": {},
   "outputs": [],
   "source": [
    "# TO DO: Print the data frame (you don't need to use the print function)\n"
   ]
  },
  {
   "cell_type": "code",
   "execution_count": 22,
   "metadata": {},
   "outputs": [],
   "source": [
    "# To DO: Use the 'head' method to display the top 5 rows of the data frame\n"
   ]
  },
  {
   "cell_type": "code",
   "execution_count": 25,
   "metadata": {},
   "outputs": [
    {
     "data": {
      "text/plain": [
       "0   -0.612421\n",
       "1    1.164471\n",
       "2   -1.705165\n",
       "3    0.371267\n",
       "4    0.268629\n",
       "Name: col1, dtype: float64"
      ]
     },
     "execution_count": 25,
     "metadata": {},
     "output_type": "execute_result"
    }
   ],
   "source": [
    "df['col1'].head()"
   ]
  },
  {
   "cell_type": "code",
   "execution_count": 28,
   "metadata": {},
   "outputs": [],
   "source": [
    "# TO DO: display the top ten rows of 'col2' using the 'head' method and the number 10 as the argument\n"
   ]
  },
  {
   "cell_type": "code",
   "execution_count": 29,
   "metadata": {},
   "outputs": [],
   "source": [
    "df['col3'] = df.col1"
   ]
  },
  {
   "cell_type": "code",
   "execution_count": 30,
   "metadata": {},
   "outputs": [],
   "source": [
    "# TO DO: Print the newly created column"
   ]
  },
  {
   "cell_type": "code",
   "execution_count": 33,
   "metadata": {},
   "outputs": [],
   "source": [
    "# TO DO: create a new column called 'col4' and set it equal to col1 to the power of 2\n"
   ]
  },
  {
   "cell_type": "code",
   "execution_count": 36,
   "metadata": {},
   "outputs": [
    {
     "data": {
      "text/html": [
       "<div>\n",
       "<style scoped>\n",
       "    .dataframe tbody tr th:only-of-type {\n",
       "        vertical-align: middle;\n",
       "    }\n",
       "\n",
       "    .dataframe tbody tr th {\n",
       "        vertical-align: top;\n",
       "    }\n",
       "\n",
       "    .dataframe thead th {\n",
       "        text-align: right;\n",
       "    }\n",
       "</style>\n",
       "<table border=\"1\" class=\"dataframe\">\n",
       "  <thead>\n",
       "    <tr style=\"text-align: right;\">\n",
       "      <th></th>\n",
       "      <th>col1</th>\n",
       "      <th>col2</th>\n",
       "      <th>col3</th>\n",
       "    </tr>\n",
       "  </thead>\n",
       "  <tbody>\n",
       "    <tr>\n",
       "      <th>count</th>\n",
       "      <td>100.000000</td>\n",
       "      <td>100.000000</td>\n",
       "      <td>100.000000</td>\n",
       "    </tr>\n",
       "    <tr>\n",
       "      <th>mean</th>\n",
       "      <td>0.083049</td>\n",
       "      <td>0.319479</td>\n",
       "      <td>0.083049</td>\n",
       "    </tr>\n",
       "    <tr>\n",
       "      <th>std</th>\n",
       "      <td>1.122216</td>\n",
       "      <td>1.869345</td>\n",
       "      <td>1.122216</td>\n",
       "    </tr>\n",
       "    <tr>\n",
       "      <th>min</th>\n",
       "      <td>-2.743367</td>\n",
       "      <td>-4.142792</td>\n",
       "      <td>-2.743367</td>\n",
       "    </tr>\n",
       "    <tr>\n",
       "      <th>25%</th>\n",
       "      <td>-0.693230</td>\n",
       "      <td>-1.017263</td>\n",
       "      <td>-0.693230</td>\n",
       "    </tr>\n",
       "    <tr>\n",
       "      <th>50%</th>\n",
       "      <td>0.210011</td>\n",
       "      <td>0.512936</td>\n",
       "      <td>0.210011</td>\n",
       "    </tr>\n",
       "    <tr>\n",
       "      <th>75%</th>\n",
       "      <td>0.848651</td>\n",
       "      <td>1.509269</td>\n",
       "      <td>0.848651</td>\n",
       "    </tr>\n",
       "    <tr>\n",
       "      <th>max</th>\n",
       "      <td>2.942669</td>\n",
       "      <td>3.801832</td>\n",
       "      <td>2.942669</td>\n",
       "    </tr>\n",
       "  </tbody>\n",
       "</table>\n",
       "</div>"
      ],
      "text/plain": [
       "             col1        col2        col3\n",
       "count  100.000000  100.000000  100.000000\n",
       "mean     0.083049    0.319479    0.083049\n",
       "std      1.122216    1.869345    1.122216\n",
       "min     -2.743367   -4.142792   -2.743367\n",
       "25%     -0.693230   -1.017263   -0.693230\n",
       "50%      0.210011    0.512936    0.210011\n",
       "75%      0.848651    1.509269    0.848651\n",
       "max      2.942669    3.801832    2.942669"
      ]
     },
     "execution_count": 36,
     "metadata": {},
     "output_type": "execute_result"
    }
   ],
   "source": [
    "df.describe()"
   ]
  },
  {
   "cell_type": "code",
   "execution_count": 37,
   "metadata": {},
   "outputs": [],
   "source": [
    "# TO DO: Use the mean method to show the mean of each column of the dataframe\n"
   ]
  },
  {
   "cell_type": "code",
   "execution_count": 39,
   "metadata": {},
   "outputs": [
    {
     "data": {
      "text/plain": [
       "col1    0.083049\n",
       "col2    0.319479\n",
       "col3    0.083049\n",
       "dtype: float64"
      ]
     },
     "execution_count": 39,
     "metadata": {},
     "output_type": "execute_result"
    }
   ],
   "source": [
    "df.mean(axis=0)"
   ]
  },
  {
   "cell_type": "code",
   "execution_count": 40,
   "metadata": {},
   "outputs": [],
   "source": [
    "# TO DO: Alter the axis argument to take the mean of each row instead\n"
   ]
  },
  {
   "cell_type": "code",
   "execution_count": 51,
   "metadata": {},
   "outputs": [
    {
     "data": {
      "image/png": "[encoded data removed]",
      "text/plain": [
       "<Figure size 432x288 with 1 Axes>"
      ]
     },
     "metadata": {
      "needs_background": "light"
     },
     "output_type": "display_data"
    }
   ],
   "source": [
    "# TO DO: add another line to plot the histogram of the column you created\n",
    "\n",
    "import matplotlib.pyplot as plt\n",
    "\n",
    "plt.hist(df.col1)\n",
    "plt.hist(df.col2)\n",
    "plt.hist(df.col3)\n",
    "plt.show()"
   ]
  },
  {
   "cell_type": "code",
   "execution_count": 55,
   "metadata": {},
   "outputs": [
    {
     "data": {
      "text/html": [
       "<div>\n",
       "<style scoped>\n",
       "    .dataframe tbody tr th:only-of-type {\n",
       "        vertical-align: middle;\n",
       "    }\n",
       "\n",
       "    .dataframe tbody tr th {\n",
       "        vertical-align: top;\n",
       "    }\n",
       "\n",
       "    .dataframe thead th {\n",
       "        text-align: right;\n",
       "    }\n",
       "</style>\n",
       "<table border=\"1\" class=\"dataframe\">\n",
       "  <thead>\n",
       "    <tr style=\"text-align: right;\">\n",
       "      <th></th>\n",
       "      <th>col1</th>\n",
       "      <th>col2</th>\n",
       "      <th>col3</th>\n",
       "    </tr>\n",
       "  </thead>\n",
       "  <tbody>\n",
       "    <tr>\n",
       "      <th>1</th>\n",
       "      <td>1.164471</td>\n",
       "      <td>2.273369</td>\n",
       "      <td>1.164471</td>\n",
       "    </tr>\n",
       "    <tr>\n",
       "      <th>2</th>\n",
       "      <td>-1.705165</td>\n",
       "      <td>0.621514</td>\n",
       "      <td>-1.705165</td>\n",
       "    </tr>\n",
       "    <tr>\n",
       "      <th>3</th>\n",
       "      <td>0.371267</td>\n",
       "      <td>0.288784</td>\n",
       "      <td>0.371267</td>\n",
       "    </tr>\n",
       "    <tr>\n",
       "      <th>4</th>\n",
       "      <td>0.268629</td>\n",
       "      <td>0.842384</td>\n",
       "      <td>0.268629</td>\n",
       "    </tr>\n",
       "    <tr>\n",
       "      <th>5</th>\n",
       "      <td>-1.136842</td>\n",
       "      <td>-1.192168</td>\n",
       "      <td>-1.136842</td>\n",
       "    </tr>\n",
       "    <tr>\n",
       "      <th>6</th>\n",
       "      <td>0.027074</td>\n",
       "      <td>-1.713651</td>\n",
       "      <td>0.027074</td>\n",
       "    </tr>\n",
       "    <tr>\n",
       "      <th>7</th>\n",
       "      <td>-2.311487</td>\n",
       "      <td>-0.130051</td>\n",
       "      <td>-2.311487</td>\n",
       "    </tr>\n",
       "    <tr>\n",
       "      <th>8</th>\n",
       "      <td>-1.926305</td>\n",
       "      <td>-0.567566</td>\n",
       "      <td>-1.926305</td>\n",
       "    </tr>\n",
       "    <tr>\n",
       "      <th>9</th>\n",
       "      <td>0.860446</td>\n",
       "      <td>-0.300630</td>\n",
       "      <td>0.860446</td>\n",
       "    </tr>\n",
       "  </tbody>\n",
       "</table>\n",
       "</div>"
      ],
      "text/plain": [
       "       col1      col2      col3\n",
       "1  1.164471  2.273369  1.164471\n",
       "2 -1.705165  0.621514 -1.705165\n",
       "3  0.371267  0.288784  0.371267\n",
       "4  0.268629  0.842384  0.268629\n",
       "5 -1.136842 -1.192168 -1.136842\n",
       "6  0.027074 -1.713651  0.027074\n",
       "7 -2.311487 -0.130051 -2.311487\n",
       "8 -1.926305 -0.567566 -1.926305\n",
       "9  0.860446 -0.300630  0.860446"
      ]
     },
     "execution_count": 55,
     "metadata": {},
     "output_type": "execute_result"
    }
   ],
   "source": [
    "# TO DO: Notice that the first row is indexed at 0\n",
    "df[1:10]"
   ]
  },
  {
   "cell_type": "code",
   "execution_count": 57,
   "metadata": {},
   "outputs": [
    {
     "data": {
      "text/html": [
       "<div>\n",
       "<style scoped>\n",
       "    .dataframe tbody tr th:only-of-type {\n",
       "        vertical-align: middle;\n",
       "    }\n",
       "\n",
       "    .dataframe tbody tr th {\n",
       "        vertical-align: top;\n",
       "    }\n",
       "\n",
       "    .dataframe thead th {\n",
       "        text-align: right;\n",
       "    }\n",
       "</style>\n",
       "<table border=\"1\" class=\"dataframe\">\n",
       "  <thead>\n",
       "    <tr style=\"text-align: right;\">\n",
       "      <th></th>\n",
       "      <th>col1</th>\n",
       "      <th>col2</th>\n",
       "      <th>col3</th>\n",
       "    </tr>\n",
       "  </thead>\n",
       "  <tbody>\n",
       "    <tr>\n",
       "      <th>0</th>\n",
       "      <td>-0.612421</td>\n",
       "      <td>0.405337</td>\n",
       "      <td>-0.612421</td>\n",
       "    </tr>\n",
       "    <tr>\n",
       "      <th>1</th>\n",
       "      <td>1.164471</td>\n",
       "      <td>2.273369</td>\n",
       "      <td>1.164471</td>\n",
       "    </tr>\n",
       "    <tr>\n",
       "      <th>2</th>\n",
       "      <td>-1.705165</td>\n",
       "      <td>0.621514</td>\n",
       "      <td>-1.705165</td>\n",
       "    </tr>\n",
       "    <tr>\n",
       "      <th>3</th>\n",
       "      <td>0.371267</td>\n",
       "      <td>0.288784</td>\n",
       "      <td>0.371267</td>\n",
       "    </tr>\n",
       "    <tr>\n",
       "      <th>4</th>\n",
       "      <td>0.268629</td>\n",
       "      <td>0.842384</td>\n",
       "      <td>0.268629</td>\n",
       "    </tr>\n",
       "    <tr>\n",
       "      <th>5</th>\n",
       "      <td>-1.136842</td>\n",
       "      <td>-1.192168</td>\n",
       "      <td>-1.136842</td>\n",
       "    </tr>\n",
       "    <tr>\n",
       "      <th>6</th>\n",
       "      <td>0.027074</td>\n",
       "      <td>-1.713651</td>\n",
       "      <td>0.027074</td>\n",
       "    </tr>\n",
       "    <tr>\n",
       "      <th>7</th>\n",
       "      <td>-2.311487</td>\n",
       "      <td>-0.130051</td>\n",
       "      <td>-2.311487</td>\n",
       "    </tr>\n",
       "    <tr>\n",
       "      <th>8</th>\n",
       "      <td>-1.926305</td>\n",
       "      <td>-0.567566</td>\n",
       "      <td>-1.926305</td>\n",
       "    </tr>\n",
       "    <tr>\n",
       "      <th>9</th>\n",
       "      <td>0.860446</td>\n",
       "      <td>-0.300630</td>\n",
       "      <td>0.860446</td>\n",
       "    </tr>\n",
       "  </tbody>\n",
       "</table>\n",
       "</div>"
      ],
      "text/plain": [
       "       col1      col2      col3\n",
       "0 -0.612421  0.405337 -0.612421\n",
       "1  1.164471  2.273369  1.164471\n",
       "2 -1.705165  0.621514 -1.705165\n",
       "3  0.371267  0.288784  0.371267\n",
       "4  0.268629  0.842384  0.268629\n",
       "5 -1.136842 -1.192168 -1.136842\n",
       "6  0.027074 -1.713651  0.027074\n",
       "7 -2.311487 -0.130051 -2.311487\n",
       "8 -1.926305 -0.567566 -1.926305\n",
       "9  0.860446 -0.300630  0.860446"
      ]
     },
     "execution_count": 57,
     "metadata": {},
     "output_type": "execute_result"
    }
   ],
   "source": [
    "df[0:10]"
   ]
  },
  {
   "cell_type": "code",
   "execution_count": 59,
   "metadata": {},
   "outputs": [
    {
     "data": {
      "text/html": [
       "<div>\n",
       "<style scoped>\n",
       "    .dataframe tbody tr th:only-of-type {\n",
       "        vertical-align: middle;\n",
       "    }\n",
       "\n",
       "    .dataframe tbody tr th {\n",
       "        vertical-align: top;\n",
       "    }\n",
       "\n",
       "    .dataframe thead th {\n",
       "        text-align: right;\n",
       "    }\n",
       "</style>\n",
       "<table border=\"1\" class=\"dataframe\">\n",
       "  <thead>\n",
       "    <tr style=\"text-align: right;\">\n",
       "      <th></th>\n",
       "      <th>col1</th>\n",
       "      <th>col2</th>\n",
       "      <th>col3</th>\n",
       "    </tr>\n",
       "  </thead>\n",
       "  <tbody>\n",
       "    <tr>\n",
       "      <th>0</th>\n",
       "      <td>-0.612421</td>\n",
       "      <td>0.405337</td>\n",
       "      <td>-0.612421</td>\n",
       "    </tr>\n",
       "    <tr>\n",
       "      <th>1</th>\n",
       "      <td>1.164471</td>\n",
       "      <td>2.273369</td>\n",
       "      <td>1.164471</td>\n",
       "    </tr>\n",
       "    <tr>\n",
       "      <th>2</th>\n",
       "      <td>-1.705165</td>\n",
       "      <td>0.621514</td>\n",
       "      <td>-1.705165</td>\n",
       "    </tr>\n",
       "    <tr>\n",
       "      <th>3</th>\n",
       "      <td>0.371267</td>\n",
       "      <td>0.288784</td>\n",
       "      <td>0.371267</td>\n",
       "    </tr>\n",
       "    <tr>\n",
       "      <th>4</th>\n",
       "      <td>0.268629</td>\n",
       "      <td>0.842384</td>\n",
       "      <td>0.268629</td>\n",
       "    </tr>\n",
       "    <tr>\n",
       "      <th>5</th>\n",
       "      <td>-1.136842</td>\n",
       "      <td>-1.192168</td>\n",
       "      <td>-1.136842</td>\n",
       "    </tr>\n",
       "  </tbody>\n",
       "</table>\n",
       "</div>"
      ],
      "text/plain": [
       "       col1      col2      col3\n",
       "0 -0.612421  0.405337 -0.612421\n",
       "1  1.164471  2.273369  1.164471\n",
       "2 -1.705165  0.621514 -1.705165\n",
       "3  0.371267  0.288784  0.371267\n",
       "4  0.268629  0.842384  0.268629\n",
       "5 -1.136842 -1.192168 -1.136842"
      ]
     },
     "execution_count": 59,
     "metadata": {},
     "output_type": "execute_result"
    }
   ],
   "source": [
    "df.loc[0:5,]"
   ]
  },
  {
   "cell_type": "code",
   "execution_count": 67,
   "metadata": {},
   "outputs": [
    {
     "data": {
      "text/html": [
       "<div>\n",
       "<style scoped>\n",
       "    .dataframe tbody tr th:only-of-type {\n",
       "        vertical-align: middle;\n",
       "    }\n",
       "\n",
       "    .dataframe tbody tr th {\n",
       "        vertical-align: top;\n",
       "    }\n",
       "\n",
       "    .dataframe thead th {\n",
       "        text-align: right;\n",
       "    }\n",
       "</style>\n",
       "<table border=\"1\" class=\"dataframe\">\n",
       "  <thead>\n",
       "    <tr style=\"text-align: right;\">\n",
       "      <th></th>\n",
       "      <th>col1</th>\n",
       "      <th>col2</th>\n",
       "      <th>col3</th>\n",
       "    </tr>\n",
       "  </thead>\n",
       "  <tbody>\n",
       "    <tr>\n",
       "      <th>2</th>\n",
       "      <td>-1.705165</td>\n",
       "      <td>0.621514</td>\n",
       "      <td>-1.705165</td>\n",
       "    </tr>\n",
       "    <tr>\n",
       "      <th>3</th>\n",
       "      <td>0.371267</td>\n",
       "      <td>0.288784</td>\n",
       "      <td>0.371267</td>\n",
       "    </tr>\n",
       "    <tr>\n",
       "      <th>5</th>\n",
       "      <td>-1.136842</td>\n",
       "      <td>-1.192168</td>\n",
       "      <td>-1.136842</td>\n",
       "    </tr>\n",
       "  </tbody>\n",
       "</table>\n",
       "</div>"
      ],
      "text/plain": [
       "       col1      col2      col3\n",
       "2 -1.705165  0.621514 -1.705165\n",
       "3  0.371267  0.288784  0.371267\n",
       "5 -1.136842 -1.192168 -1.136842"
      ]
     },
     "execution_count": 67,
     "metadata": {},
     "output_type": "execute_result"
    }
   ],
   "source": [
    "# You can pass a list of indices\n",
    "df.loc[[2,3,5]]"
   ]
  },
  {
   "cell_type": "code",
   "execution_count": 69,
   "metadata": {},
   "outputs": [
    {
     "data": {
      "text/plain": [
       "-0.6124205884127849"
      ]
     },
     "execution_count": 69,
     "metadata": {},
     "output_type": "execute_result"
    }
   ],
   "source": [
    "# Using the iloc method lets you specifically select rows and columns of a dataframe\n",
    "df.iloc[0,0]"
   ]
  },
  {
   "cell_type": "code",
   "execution_count": 71,
   "metadata": {},
   "outputs": [
    {
     "data": {
      "text/html": [
       "<div>\n",
       "<style scoped>\n",
       "    .dataframe tbody tr th:only-of-type {\n",
       "        vertical-align: middle;\n",
       "    }\n",
       "\n",
       "    .dataframe tbody tr th {\n",
       "        vertical-align: top;\n",
       "    }\n",
       "\n",
       "    .dataframe thead th {\n",
       "        text-align: right;\n",
       "    }\n",
       "</style>\n",
       "<table border=\"1\" class=\"dataframe\">\n",
       "  <thead>\n",
       "    <tr style=\"text-align: right;\">\n",
       "      <th></th>\n",
       "      <th>col1</th>\n",
       "    </tr>\n",
       "  </thead>\n",
       "  <tbody>\n",
       "    <tr>\n",
       "      <th>0</th>\n",
       "      <td>-0.612421</td>\n",
       "    </tr>\n",
       "    <tr>\n",
       "      <th>1</th>\n",
       "      <td>1.164471</td>\n",
       "    </tr>\n",
       "    <tr>\n",
       "      <th>2</th>\n",
       "      <td>-1.705165</td>\n",
       "    </tr>\n",
       "  </tbody>\n",
       "</table>\n",
       "</div>"
      ],
      "text/plain": [
       "       col1\n",
       "0 -0.612421\n",
       "1  1.164471\n",
       "2 -1.705165"
      ]
     },
     "execution_count": 71,
     "metadata": {},
     "output_type": "execute_result"
    }
   ],
   "source": [
    "df.iloc[0:3,0:1]"
   ]
  },
  {
   "cell_type": "code",
   "execution_count": 73,
   "metadata": {},
   "outputs": [],
   "source": [
    "# To Do: Use the iloc method to selec the first 10 values of the 3rd and 4th columns of the dataframe\n"
   ]
  },
  {
   "cell_type": "code",
   "execution_count": 78,
   "metadata": {},
   "outputs": [
    {
     "data": {
      "text/html": [
       "<div>\n",
       "<style scoped>\n",
       "    .dataframe tbody tr th:only-of-type {\n",
       "        vertical-align: middle;\n",
       "    }\n",
       "\n",
       "    .dataframe tbody tr th {\n",
       "        vertical-align: top;\n",
       "    }\n",
       "\n",
       "    .dataframe thead th {\n",
       "        text-align: right;\n",
       "    }\n",
       "</style>\n",
       "<table border=\"1\" class=\"dataframe\">\n",
       "  <thead>\n",
       "    <tr style=\"text-align: right;\">\n",
       "      <th></th>\n",
       "      <th>col1</th>\n",
       "      <th>col2</th>\n",
       "      <th>col3</th>\n",
       "    </tr>\n",
       "  </thead>\n",
       "  <tbody>\n",
       "    <tr>\n",
       "      <th>7</th>\n",
       "      <td>-2.311487</td>\n",
       "      <td>-0.130051</td>\n",
       "      <td>-2.311487</td>\n",
       "    </tr>\n",
       "    <tr>\n",
       "      <th>29</th>\n",
       "      <td>-1.982196</td>\n",
       "      <td>2.136923</td>\n",
       "      <td>-1.982196</td>\n",
       "    </tr>\n",
       "    <tr>\n",
       "      <th>85</th>\n",
       "      <td>-2.743367</td>\n",
       "      <td>1.170749</td>\n",
       "      <td>-2.743367</td>\n",
       "    </tr>\n",
       "  </tbody>\n",
       "</table>\n",
       "</div>"
      ],
      "text/plain": [
       "        col1      col2      col3\n",
       "7  -2.311487 -0.130051 -2.311487\n",
       "29 -1.982196  2.136923 -1.982196\n",
       "85 -2.743367  1.170749 -2.743367"
      ]
     },
     "execution_count": 78,
     "metadata": {},
     "output_type": "execute_result"
    }
   ],
   "source": [
    "# You can select columns based on conditions\n",
    "\n",
    "df[df.col1<=-1.96]"
   ]
  },
  {
   "cell_type": "code",
   "execution_count": 79,
   "metadata": {},
   "outputs": [],
   "source": [
    "# TO DO: select rows from the dataframe that are less than the minimum of the fourth column\n"
   ]
  },
  {
   "cell_type": "code",
   "execution_count": 2,
   "metadata": {},
   "outputs": [],
   "source": [
    "# Look at the same dataframe\n",
    "\n",
    "data = {'row1': [1,2,3],\n",
    "        'row2': [6,12,19]}\n",
    "df = pd.DataFrame.from_dict(data,orient='index')"
   ]
  },
  {
   "cell_type": "code",
   "execution_count": 3,
   "metadata": {},
   "outputs": [
    {
     "data": {
      "text/plain": [
       "Index(['row1', 'row2'], dtype='object')"
      ]
     },
     "execution_count": 3,
     "metadata": {},
     "output_type": "execute_result"
    }
   ],
   "source": [
    "df.index"
   ]
  },
  {
   "cell_type": "code",
   "execution_count": 4,
   "metadata": {},
   "outputs": [
    {
     "data": {
      "text/html": [
       "<div>\n",
       "<style scoped>\n",
       "    .dataframe tbody tr th:only-of-type {\n",
       "        vertical-align: middle;\n",
       "    }\n",
       "\n",
       "    .dataframe tbody tr th {\n",
       "        vertical-align: top;\n",
       "    }\n",
       "\n",
       "    .dataframe thead th {\n",
       "        text-align: right;\n",
       "    }\n",
       "</style>\n",
       "<table border=\"1\" class=\"dataframe\">\n",
       "  <thead>\n",
       "    <tr style=\"text-align: right;\">\n",
       "      <th></th>\n",
       "      <th>0</th>\n",
       "      <th>1</th>\n",
       "      <th>2</th>\n",
       "    </tr>\n",
       "  </thead>\n",
       "  <tbody>\n",
       "    <tr>\n",
       "      <th>row1</th>\n",
       "      <td>1</td>\n",
       "      <td>2</td>\n",
       "      <td>3</td>\n",
       "    </tr>\n",
       "    <tr>\n",
       "      <th>row2</th>\n",
       "      <td>6</td>\n",
       "      <td>12</td>\n",
       "      <td>19</td>\n",
       "    </tr>\n",
       "  </tbody>\n",
       "</table>\n",
       "</div>"
      ],
      "text/plain": [
       "      0   1   2\n",
       "row1  1   2   3\n",
       "row2  6  12  19"
      ]
     },
     "execution_count": 4,
     "metadata": {},
     "output_type": "execute_result"
    }
   ],
   "source": [
    "df"
   ]
  },
  {
   "cell_type": "code",
   "execution_count": 5,
   "metadata": {},
   "outputs": [
    {
     "data": {
      "text/plain": [
       "0    1\n",
       "1    2\n",
       "2    3\n",
       "Name: row1, dtype: int64"
      ]
     },
     "execution_count": 5,
     "metadata": {},
     "output_type": "execute_result"
    }
   ],
   "source": [
    "df.loc['row1']"
   ]
  },
  {
   "cell_type": "code",
   "execution_count": 95,
   "metadata": {},
   "outputs": [],
   "source": [
    "# TO DO: Select the second row of the dataframe using the .loc method\n"
   ]
  },
  {
   "cell_type": "code",
   "execution_count": 8,
   "metadata": {},
   "outputs": [],
   "source": [
    "data = {'col1': np.random.normal(size = 100, loc = 0, scale = 1),\n",
    "        'col2': np.random.normal(size = 100, loc = 0, scale = 2),\n",
    "       'col3':np.random.normal(size = 100, loc = 1, scale = 1.5)}\n",
    "\n",
    "df = pd.DataFrame.from_dict(data)"
   ]
  },
  {
   "cell_type": "code",
   "execution_count": 9,
   "metadata": {},
   "outputs": [
    {
     "data": {
      "text/plain": [
       "Index(['col1', 'col2', 'col3'], dtype='object')"
      ]
     },
     "execution_count": 9,
     "metadata": {},
     "output_type": "execute_result"
    }
   ],
   "source": [
    "# TO DO: print the column names using the columns method\n"
   ]
  },
  {
   "cell_type": "code",
   "execution_count": 11,
   "metadata": {},
   "outputs": [],
   "source": [
    "# TO DO: Display the header for the dataframe using the head method and an argument of 15\n"
   ]
  },
  {
   "cell_type": "code",
   "execution_count": 12,
   "metadata": {},
   "outputs": [],
   "source": [
    "# TO DO: Disiplay the 5 row  header for the dataframe using only columns 1 and 3 by referring to their names\n"
   ]
  },
  {
   "cell_type": "code",
   "execution_count": 16,
   "metadata": {},
   "outputs": [],
   "source": [
    "# TO DO: use the read_csv function to read in the 'airfare' dataset and name it air_df\n",
    "# Ref: https://pandas.pydata.org/pandas-docs/stable/reference/api/pandas.read_csv.html\n",
    "# Hint: you may need to use / instead of \\\n",
    "air_df = pd.read_csv('C:/Users/casey/OneDrive/Desktop/airfare.csv')"
   ]
  },
  {
   "cell_type": "code",
   "execution_count": 19,
   "metadata": {},
   "outputs": [
    {
     "data": {
      "text/html": [
       "<div>\n",
       "<style scoped>\n",
       "    .dataframe tbody tr th:only-of-type {\n",
       "        vertical-align: middle;\n",
       "    }\n",
       "\n",
       "    .dataframe tbody tr th {\n",
       "        vertical-align: top;\n",
       "    }\n",
       "\n",
       "    .dataframe thead th {\n",
       "        text-align: right;\n",
       "    }\n",
       "</style>\n",
       "<table border=\"1\" class=\"dataframe\">\n",
       "  <thead>\n",
       "    <tr style=\"text-align: right;\">\n",
       "      <th></th>\n",
       "      <th>year</th>\n",
       "      <th>origin</th>\n",
       "      <th>destination</th>\n",
       "      <th>id</th>\n",
       "      <th>distance</th>\n",
       "      <th>passenger</th>\n",
       "      <th>fair</th>\n",
       "      <th>bmktshr</th>\n",
       "      <th>ldist</th>\n",
       "      <th>y98</th>\n",
       "      <th>y99</th>\n",
       "      <th>y100</th>\n",
       "      <th>lfare</th>\n",
       "      <th>ldistsq</th>\n",
       "      <th>concen</th>\n",
       "      <th>lpassen</th>\n",
       "    </tr>\n",
       "  </thead>\n",
       "  <tbody>\n",
       "    <tr>\n",
       "      <th>0</th>\n",
       "      <td>1997</td>\n",
       "      <td>\"AKRON, OH\"</td>\n",
       "      <td>\"ATLANTA, GA\"</td>\n",
       "      <td>1</td>\n",
       "      <td>528</td>\n",
       "      <td>152</td>\n",
       "      <td>106</td>\n",
       "      <td>0.8386</td>\n",
       "      <td>6.269096</td>\n",
       "      <td>0</td>\n",
       "      <td>0</td>\n",
       "      <td>0</td>\n",
       "      <td>4.663439</td>\n",
       "      <td>39.30157</td>\n",
       "      <td>0.8386</td>\n",
       "      <td>5.023880</td>\n",
       "    </tr>\n",
       "    <tr>\n",
       "      <th>4</th>\n",
       "      <td>1997</td>\n",
       "      <td>\"AKRON, OH\"</td>\n",
       "      <td>\"ORLANDO, FL\"</td>\n",
       "      <td>2</td>\n",
       "      <td>861</td>\n",
       "      <td>282</td>\n",
       "      <td>104</td>\n",
       "      <td>0.5798</td>\n",
       "      <td>6.758094</td>\n",
       "      <td>0</td>\n",
       "      <td>0</td>\n",
       "      <td>0</td>\n",
       "      <td>4.644391</td>\n",
       "      <td>45.67184</td>\n",
       "      <td>0.5798</td>\n",
       "      <td>5.641907</td>\n",
       "    </tr>\n",
       "    <tr>\n",
       "      <th>8</th>\n",
       "      <td>1997</td>\n",
       "      <td>\"ALBANY, NY\"</td>\n",
       "      <td>\"ATLANTA, GA\"</td>\n",
       "      <td>3</td>\n",
       "      <td>852</td>\n",
       "      <td>241</td>\n",
       "      <td>207</td>\n",
       "      <td>0.8180</td>\n",
       "      <td>6.747587</td>\n",
       "      <td>0</td>\n",
       "      <td>0</td>\n",
       "      <td>0</td>\n",
       "      <td>5.332719</td>\n",
       "      <td>45.52993</td>\n",
       "      <td>0.8180</td>\n",
       "      <td>5.484797</td>\n",
       "    </tr>\n",
       "    <tr>\n",
       "      <th>12</th>\n",
       "      <td>1997</td>\n",
       "      <td>\"ALBANY, NY\"</td>\n",
       "      <td>\"CHICAGO, IL\"</td>\n",
       "      <td>4</td>\n",
       "      <td>724</td>\n",
       "      <td>233</td>\n",
       "      <td>243</td>\n",
       "      <td>0.4604</td>\n",
       "      <td>6.584791</td>\n",
       "      <td>0</td>\n",
       "      <td>0</td>\n",
       "      <td>0</td>\n",
       "      <td>5.493062</td>\n",
       "      <td>43.35947</td>\n",
       "      <td>0.4604</td>\n",
       "      <td>5.451038</td>\n",
       "    </tr>\n",
       "    <tr>\n",
       "      <th>16</th>\n",
       "      <td>1997</td>\n",
       "      <td>\"ALBANY, NY\"</td>\n",
       "      <td>\"ORLANDO, FL\"</td>\n",
       "      <td>5</td>\n",
       "      <td>1073</td>\n",
       "      <td>396</td>\n",
       "      <td>119</td>\n",
       "      <td>0.4571</td>\n",
       "      <td>6.978214</td>\n",
       "      <td>0</td>\n",
       "      <td>0</td>\n",
       "      <td>0</td>\n",
       "      <td>4.779123</td>\n",
       "      <td>48.69547</td>\n",
       "      <td>0.4571</td>\n",
       "      <td>5.981414</td>\n",
       "    </tr>\n",
       "  </tbody>\n",
       "</table>\n",
       "</div>"
      ],
      "text/plain": [
       "    year        origin    destination  id  distance  passenger  fair  bmktshr  \\\n",
       "0   1997   \"AKRON, OH\"  \"ATLANTA, GA\"   1       528        152   106   0.8386   \n",
       "4   1997   \"AKRON, OH\"  \"ORLANDO, FL\"   2       861        282   104   0.5798   \n",
       "8   1997  \"ALBANY, NY\"  \"ATLANTA, GA\"   3       852        241   207   0.8180   \n",
       "12  1997  \"ALBANY, NY\"  \"CHICAGO, IL\"   4       724        233   243   0.4604   \n",
       "16  1997  \"ALBANY, NY\"  \"ORLANDO, FL\"   5      1073        396   119   0.4571   \n",
       "\n",
       "       ldist  y98  y99  y100     lfare   ldistsq  concen   lpassen  \n",
       "0   6.269096    0    0     0  4.663439  39.30157  0.8386  5.023880  \n",
       "4   6.758094    0    0     0  4.644391  45.67184  0.5798  5.641907  \n",
       "8   6.747587    0    0     0  5.332719  45.52993  0.8180  5.484797  \n",
       "12  6.584791    0    0     0  5.493062  43.35947  0.4604  5.451038  \n",
       "16  6.978214    0    0     0  4.779123  48.69547  0.4571  5.981414  "
      ]
     },
     "execution_count": 19,
     "metadata": {},
     "output_type": "execute_result"
    }
   ],
   "source": [
    "# Run this and see the results:\n",
    "\n",
    "air_df[air_df.year == 1997].head()"
   ]
  },
  {
   "cell_type": "code",
   "execution_count": 24,
   "metadata": {},
   "outputs": [
    {
     "data": {
      "text/html": [
       "<div>\n",
       "<style scoped>\n",
       "    .dataframe tbody tr th:only-of-type {\n",
       "        vertical-align: middle;\n",
       "    }\n",
       "\n",
       "    .dataframe tbody tr th {\n",
       "        vertical-align: top;\n",
       "    }\n",
       "\n",
       "    .dataframe thead th {\n",
       "        text-align: right;\n",
       "    }\n",
       "</style>\n",
       "<table border=\"1\" class=\"dataframe\">\n",
       "  <thead>\n",
       "    <tr style=\"text-align: right;\">\n",
       "      <th></th>\n",
       "      <th>year</th>\n",
       "      <th>origin</th>\n",
       "      <th>destination</th>\n",
       "      <th>id</th>\n",
       "      <th>distance</th>\n",
       "      <th>passenger</th>\n",
       "      <th>fair</th>\n",
       "      <th>bmktshr</th>\n",
       "      <th>ldist</th>\n",
       "      <th>y98</th>\n",
       "      <th>y99</th>\n",
       "      <th>y100</th>\n",
       "      <th>lfare</th>\n",
       "      <th>ldistsq</th>\n",
       "      <th>concen</th>\n",
       "      <th>lpassen</th>\n",
       "    </tr>\n",
       "  </thead>\n",
       "  <tbody>\n",
       "  </tbody>\n",
       "</table>\n",
       "</div>"
      ],
      "text/plain": [
       "Empty DataFrame\n",
       "Columns: [year, origin, destination, id, distance, passenger, fair, bmktshr, ldist, y98, y99, y100, lfare, ldistsq, concen, lpassen]\n",
       "Index: []"
      ]
     },
     "execution_count": 24,
     "metadata": {},
     "output_type": "execute_result"
    }
   ],
   "source": [
    "# Why does this statement with the & not work? \n",
    "# https://wiki.python.org/moin/BitwiseOperators\n",
    "\n",
    "air_df[(air_df.year == 1997) & (air_df.year == 1998)]"
   ]
  },
  {
   "cell_type": "code",
   "execution_count": 26,
   "metadata": {},
   "outputs": [],
   "source": [
    "# TO DO: Rewrite the statement above with a bitwise or and view the results\n",
    "\n"
   ]
  },
  {
   "cell_type": "code",
   "execution_count": null,
   "metadata": {},
   "outputs": [],
   "source": [
    "# TO DO: Display the air_df dataframe using only the year, origin, destination, and distance columns where the distance is above the\n",
    "# 75% percentile and below the 25% percentile\n",
    "\n"
   ]
  },
  {
   "cell_type": "code",
   "execution_count": 38,
   "metadata": {},
   "outputs": [],
   "source": [
    "# Run this cell after removing the comment\n",
    "\n",
    "#air_df.mean()"
   ]
  },
  {
   "cell_type": "code",
   "execution_count": 37,
   "metadata": {},
   "outputs": [],
   "source": [
    "# To DO: rewrite the cell above but add an axis argument to see the difference between axis 0 and axis 1\n",
    "# What is the difference?\n",
    "\n"
   ]
  },
  {
   "cell_type": "markdown",
   "metadata": {},
   "source": [
    "# References\n",
    "\n",
    "+ https://pandas.pydata.org/"
   ]
  }
 ],
 "metadata": {
  "kernelspec": {
   "display_name": "Python 3",
   "language": "python",
   "name": "python3"
  },
  "language_info": {
   "codemirror_mode": {
    "name": "ipython",
    "version": 3
   },
   "file_extension": ".py",
   "mimetype": "text/x-python",
   "name": "python",
   "nbconvert_exporter": "python",
   "pygments_lexer": "ipython3",
   "version": "3.7.3"
  }
 },
 "nbformat": 4,
 "nbformat_minor": 2
}
