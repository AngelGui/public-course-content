{
 "cells": [
  {
   "cell_type": "markdown",
   "metadata": {},
   "source": [
    "# Simple Viz"
   ]
  },
  {
   "cell_type": "markdown",
   "metadata": {},
   "source": [
    "https://seaborn.pydata.org/tutorial/relational.html#relating-variables-with-scatter-plots\n",
    "    \n",
    "https://seaborn.pydata.org/tutorial/categorical.html#statistical-estimation-within-categories"
   ]
  },
  {
   "cell_type": "markdown",
   "metadata": {},
   "source": [
    "+ line plots\n",
    "+ barplots\n",
    "+ distribution plots\n",
    "+ box plots"
   ]
  },
  {
   "cell_type": "code",
   "execution_count": 2,
   "metadata": {},
   "outputs": [],
   "source": [
    "import pandas as pd\n",
    "df = pd.read_csv('.../airfare.csv')"
   ]
  },
  {
   "cell_type": "code",
   "execution_count": 3,
   "metadata": {},
   "outputs": [],
   "source": [
    "# TO DO: Add import statements for pands, numpy, matplotlib.pyplot, and seaborn\n",
    "from sklearn import datasets\n",
    "import pandas as pd\n",
    "import numpy as np\n",
    "import matplotlib.pyplot as plt\n",
    "import seaborn as sns\n"
   ]
  },
  {
   "cell_type": "code",
   "execution_count": 5,
   "metadata": {},
   "outputs": [
    {
     "data": {
      "text/html": [
       "<div>\n",
       "<style scoped>\n",
       "    .dataframe tbody tr th:only-of-type {\n",
       "        vertical-align: middle;\n",
       "    }\n",
       "\n",
       "    .dataframe tbody tr th {\n",
       "        vertical-align: top;\n",
       "    }\n",
       "\n",
       "    .dataframe thead th {\n",
       "        text-align: right;\n",
       "    }\n",
       "</style>\n",
       "<table border=\"1\" class=\"dataframe\">\n",
       "  <thead>\n",
       "    <tr style=\"text-align: right;\">\n",
       "      <th></th>\n",
       "      <th>year</th>\n",
       "      <th>origin</th>\n",
       "      <th>destination</th>\n",
       "      <th>id</th>\n",
       "      <th>distance</th>\n",
       "      <th>passenger</th>\n",
       "      <th>fair</th>\n",
       "      <th>bmktshr</th>\n",
       "      <th>ldist</th>\n",
       "      <th>y98</th>\n",
       "      <th>y99</th>\n",
       "      <th>y100</th>\n",
       "      <th>lfare</th>\n",
       "      <th>ldistsq</th>\n",
       "      <th>concen</th>\n",
       "      <th>lpassen</th>\n",
       "    </tr>\n",
       "  </thead>\n",
       "  <tbody>\n",
       "    <tr>\n",
       "      <th>0</th>\n",
       "      <td>1997</td>\n",
       "      <td>\"AKRON, OH\"</td>\n",
       "      <td>\"ATLANTA, GA\"</td>\n",
       "      <td>1</td>\n",
       "      <td>528</td>\n",
       "      <td>152</td>\n",
       "      <td>106</td>\n",
       "      <td>0.8386</td>\n",
       "      <td>6.269096</td>\n",
       "      <td>0</td>\n",
       "      <td>0</td>\n",
       "      <td>0</td>\n",
       "      <td>4.663439</td>\n",
       "      <td>39.30157</td>\n",
       "      <td>0.8386</td>\n",
       "      <td>5.023880</td>\n",
       "    </tr>\n",
       "    <tr>\n",
       "      <th>1</th>\n",
       "      <td>1998</td>\n",
       "      <td>\"AKRON, OH\"</td>\n",
       "      <td>\"ATLANTA, GA\"</td>\n",
       "      <td>1</td>\n",
       "      <td>528</td>\n",
       "      <td>265</td>\n",
       "      <td>106</td>\n",
       "      <td>0.8133</td>\n",
       "      <td>6.269096</td>\n",
       "      <td>1</td>\n",
       "      <td>0</td>\n",
       "      <td>0</td>\n",
       "      <td>4.663439</td>\n",
       "      <td>39.30157</td>\n",
       "      <td>0.8133</td>\n",
       "      <td>5.579730</td>\n",
       "    </tr>\n",
       "    <tr>\n",
       "      <th>2</th>\n",
       "      <td>1999</td>\n",
       "      <td>\"AKRON, OH\"</td>\n",
       "      <td>\"ATLANTA, GA\"</td>\n",
       "      <td>1</td>\n",
       "      <td>528</td>\n",
       "      <td>336</td>\n",
       "      <td>113</td>\n",
       "      <td>0.8262</td>\n",
       "      <td>6.269096</td>\n",
       "      <td>0</td>\n",
       "      <td>1</td>\n",
       "      <td>0</td>\n",
       "      <td>4.727388</td>\n",
       "      <td>39.30157</td>\n",
       "      <td>0.8262</td>\n",
       "      <td>5.817111</td>\n",
       "    </tr>\n",
       "    <tr>\n",
       "      <th>3</th>\n",
       "      <td>2000</td>\n",
       "      <td>\"AKRON, OH\"</td>\n",
       "      <td>\"ATLANTA, GA\"</td>\n",
       "      <td>1</td>\n",
       "      <td>528</td>\n",
       "      <td>298</td>\n",
       "      <td>123</td>\n",
       "      <td>0.8612</td>\n",
       "      <td>6.269096</td>\n",
       "      <td>0</td>\n",
       "      <td>0</td>\n",
       "      <td>1</td>\n",
       "      <td>4.812184</td>\n",
       "      <td>39.30157</td>\n",
       "      <td>0.8612</td>\n",
       "      <td>5.697093</td>\n",
       "    </tr>\n",
       "    <tr>\n",
       "      <th>4</th>\n",
       "      <td>1997</td>\n",
       "      <td>\"AKRON, OH\"</td>\n",
       "      <td>\"ORLANDO, FL\"</td>\n",
       "      <td>2</td>\n",
       "      <td>861</td>\n",
       "      <td>282</td>\n",
       "      <td>104</td>\n",
       "      <td>0.5798</td>\n",
       "      <td>6.758094</td>\n",
       "      <td>0</td>\n",
       "      <td>0</td>\n",
       "      <td>0</td>\n",
       "      <td>4.644391</td>\n",
       "      <td>45.67184</td>\n",
       "      <td>0.5798</td>\n",
       "      <td>5.641907</td>\n",
       "    </tr>\n",
       "  </tbody>\n",
       "</table>\n",
       "</div>"
      ],
      "text/plain": [
       "   year       origin    destination  id  distance  passenger  fair  bmktshr  \\\n",
       "0  1997  \"AKRON, OH\"  \"ATLANTA, GA\"   1       528        152   106   0.8386   \n",
       "1  1998  \"AKRON, OH\"  \"ATLANTA, GA\"   1       528        265   106   0.8133   \n",
       "2  1999  \"AKRON, OH\"  \"ATLANTA, GA\"   1       528        336   113   0.8262   \n",
       "3  2000  \"AKRON, OH\"  \"ATLANTA, GA\"   1       528        298   123   0.8612   \n",
       "4  1997  \"AKRON, OH\"  \"ORLANDO, FL\"   2       861        282   104   0.5798   \n",
       "\n",
       "      ldist  y98  y99  y100     lfare   ldistsq  concen   lpassen  \n",
       "0  6.269096    0    0     0  4.663439  39.30157  0.8386  5.023880  \n",
       "1  6.269096    1    0     0  4.663439  39.30157  0.8133  5.579730  \n",
       "2  6.269096    0    1     0  4.727388  39.30157  0.8262  5.817111  \n",
       "3  6.269096    0    0     1  4.812184  39.30157  0.8612  5.697093  \n",
       "4  6.758094    0    0     0  4.644391  45.67184  0.5798  5.641907  "
      ]
     },
     "execution_count": 5,
     "metadata": {},
     "output_type": "execute_result"
    }
   ],
   "source": [
    "\n",
    "df.head()"
   ]
  },
  {
   "cell_type": "code",
   "execution_count": 8,
   "metadata": {},
   "outputs": [],
   "source": [
    "# To DO: Create a simple bar chart for the number of passengers over the past 4 years & interpret"
   ]
  },
  {
   "cell_type": "code",
   "execution_count": 12,
   "metadata": {},
   "outputs": [],
   "source": [
    "# TO DO: Create a grouped bar chart to show the number of passengers, by year, where the origin was from Ohio"
   ]
  },
  {
   "cell_type": "code",
   "execution_count": 14,
   "metadata": {},
   "outputs": [],
   "source": [
    "# TO DO: Show the distribution of distance flown in 2000"
   ]
  },
  {
   "cell_type": "code",
   "execution_count": 92,
   "metadata": {},
   "outputs": [],
   "source": [
    "# TO DO: Show the distribution of distance flowin in 1999 and 2000 on the same plot"
   ]
  },
  {
   "cell_type": "code",
   "execution_count": 16,
   "metadata": {},
   "outputs": [],
   "source": [
    "# TO DO: Show the boxplot of distance"
   ]
  },
  {
   "cell_type": "code",
   "execution_count": 94,
   "metadata": {},
   "outputs": [],
   "source": [
    "# TO DO: Show the boxplot of distance grouped by destinations in Ohio"
   ]
  },
  {
   "cell_type": "code",
   "execution_count": 90,
   "metadata": {},
   "outputs": [
    {
     "data": {
      "image/png": "[encoded data removed]",
      "text/plain": [
       "<Figure size 432x288 with 2 Axes>"
      ]
     },
     "metadata": {
      "needs_background": "light"
     },
     "output_type": "display_data"
    }
   ],
   "source": [
    "# TO DO: Use script below to see how to plot two lineplots with different scales on the same plot\n",
    "\n",
    "x = np.linspace(0, 2*np.pi)\n",
    "y1 = np.sin(x);\n",
    "y2 = 0.01 * np.cos(x)-1;\n",
    "\n",
    "fig = plt.figure()\n",
    "ax1 = fig.add_subplot(111)\n",
    "ax1.plot(x, y1)\n",
    "ax1.set_ylabel('y1')\n",
    "\n",
    "ax2 = ax1.twinx()\n",
    "ax2.plot(x, y2, 'r-')\n",
    "ax2.set_ylabel('y2', color='r')\n",
    "for tl in ax2.get_yticklabels():\n",
    "    tl.set_color('r')"
   ]
  },
  {
   "cell_type": "code",
   "execution_count": 86,
   "metadata": {},
   "outputs": [],
   "source": [
    "# TO DO: Create a lineplot to show X and Y over time"
   ]
  },
  {
   "cell_type": "code",
   "execution_count": null,
   "metadata": {},
   "outputs": [],
   "source": []
  }
 ],
 "metadata": {
  "kernelspec": {
   "display_name": "Python 3",
   "language": "python",
   "name": "python3"
  },
  "language_info": {
   "codemirror_mode": {
    "name": "ipython",
    "version": 3
   },
   "file_extension": ".py",
   "mimetype": "text/x-python",
   "name": "python",
   "nbconvert_exporter": "python",
   "pygments_lexer": "ipython3",
   "version": "3.7.3"
  }
 },
 "nbformat": 4,
 "nbformat_minor": 2
}
