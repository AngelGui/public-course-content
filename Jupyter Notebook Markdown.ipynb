{
 "cells": [
  {
   "cell_type": "markdown",
   "metadata": {},
   "source": [
    "# Jupyter Notebook Markdown"
   ]
  },
  {
   "cell_type": "code",
   "execution_count": 7,
   "metadata": {},
   "outputs": [],
   "source": [
    "# Below is a 'Markdown cell'\n",
    "# You can change a cell in Jupyter Notebooks from 'Code' to 'Markdown' using the dropdown in the toolbar above\n",
    "# Double click a markdown cell to see the formatting\n",
    "# Press Shift + Enter to run the cell (or click the 'Run' button on the toolbar above)"
   ]
  },
  {
   "cell_type": "markdown",
   "metadata": {},
   "source": [
    "# Level 1 Header\n",
    "## Level 2 Header\n",
    "### Level 3 Header\n",
    "\n",
    "**bold text**\n",
    "_italic text_\n",
    "\n",
    "Just text\n",
    "+ Bulleted item\n",
    "    + Indented bulleted item\n"
   ]
  },
  {
   "cell_type": "code",
   "execution_count": 8,
   "metadata": {},
   "outputs": [
    {
     "data": {
      "text/plain": [
       "'\\nYou can also add a block of text to a cell that will not be run as code if the text is between\\nthree quotations like you see here.\\nThe text will print on the screen though (see below).\\n'"
      ]
     },
     "execution_count": 8,
     "metadata": {},
     "output_type": "execute_result"
    }
   ],
   "source": [
    "# You can add comments to any line in a code cell using the hashmark (#)\n",
    "\"\"\"\n",
    "You can also add a block of text to a cell that will not be run as code if the text is between\n",
    "three quotations like you see here.\n",
    "The text will print on the screen though (see below).\n",
    "\"\"\""
   ]
  },
  {
   "cell_type": "code",
   "execution_count": 10,
   "metadata": {},
   "outputs": [],
   "source": [
    "# TO DO:\n",
    "# 1.) Using the buttons above in the toolbar, add new cells using the 'plus' button\n",
    "# 2.) Notice the other buttons in the toolbar to cut a cell (delete), copy, and paste a cell\n",
    "# 3.) Also, notice the other buttons that can move the current cell up or down, try it for yourself"
   ]
  },
  {
   "cell_type": "markdown",
   "metadata": {},
   "source": [
    "## Move this cell around"
   ]
  },
  {
   "cell_type": "code",
   "execution_count": 13,
   "metadata": {},
   "outputs": [],
   "source": [
    "# TO DO:\n",
    "# 4.) Make a new markdown cell below\n",
    "# 5.) Using a Level 1 header, name it \"Best in Show Winnerbs by Breed\"\n",
    "# 6.) Create a level 2 header, name it \"Top 3 Breeds\"\n",
    "# 7.) Make a bulleted list for the top 3 breeds under 'number of winners by breed' according to this link: https://en.wikipedia.org/wiki/List_of_Best_in_Show_winners_of_the_Westminster_Kennel_Club_Dog_Show\n",
    "# 8.) Add a line that references the above link in bold text"
   ]
  },
  {
   "cell_type": "code",
   "execution_count": null,
   "metadata": {},
   "outputs": [],
   "source": []
  },
  {
   "cell_type": "code",
   "execution_count": null,
   "metadata": {},
   "outputs": [],
   "source": []
  },
  {
   "cell_type": "code",
   "execution_count": null,
   "metadata": {},
   "outputs": [],
   "source": []
  },
  {
   "cell_type": "code",
   "execution_count": null,
   "metadata": {},
   "outputs": [],
   "source": []
  },
  {
   "cell_type": "code",
   "execution_count": null,
   "metadata": {},
   "outputs": [],
   "source": []
  },
  {
   "cell_type": "markdown",
   "metadata": {},
   "source": [
    "# Answer Key"
   ]
  },
  {
   "cell_type": "code",
   "execution_count": 14,
   "metadata": {},
   "outputs": [
    {
     "data": {
      "text/plain": [
       "'# Best in Show Winners by Breed\\n\\n## Top 3 Breeds\\n\\n+ Wire fox terrier\\n+ Scottish Terrier\\n+ English Spring Spaniel\\n\\nReference: **https://en.wikipedia.org/wiki/List_of_Best_in_Show_winners_of_the_Westminster_Kennel_Club_Dog_Show_**\\n'"
      ]
     },
     "execution_count": 14,
     "metadata": {},
     "output_type": "execute_result"
    }
   ],
   "source": [
    "\"\"\"# Best in Show Winners by Breed\n",
    "\n",
    "## Top 3 Breeds\n",
    "\n",
    "+ Wire fox terrier\n",
    "+ Scottish Terrier\n",
    "+ English Spring Spaniel\n",
    "\n",
    "Reference: **https://en.wikipedia.org/wiki/List_of_Best_in_Show_winners_of_the_Westminster_Kennel_Club_Dog_Show_**\n",
    "\"\"\""
   ]
  }
 ],
 "metadata": {
  "kernelspec": {
   "display_name": "Python 3",
   "language": "python",
   "name": "python3"
  },
  "language_info": {
   "codemirror_mode": {
    "name": "ipython",
    "version": 3
   },
   "file_extension": ".py",
   "mimetype": "text/x-python",
   "name": "python",
   "nbconvert_exporter": "python",
   "pygments_lexer": "ipython3",
   "version": "3.7.3"
  }
 },
 "nbformat": 4,
 "nbformat_minor": 2
}
